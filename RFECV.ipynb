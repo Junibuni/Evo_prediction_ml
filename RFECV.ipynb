{
 "cells": [
  {
   "cell_type": "code",
   "execution_count": 6,
   "id": "a0458a11",
   "metadata": {},
   "outputs": [],
   "source": [
    "import os\n",
    "import re\n",
    "import pickle\n",
    "import numpy as np\n",
    "import pandas as pd\n",
    "import matplotlib.pyplot as plt\n",
    "import joblib\n",
    "from tqdm import tqdm\n",
    "from sklearn.ensemble import RandomForestRegressor, GradientBoostingRegressor\n",
    "from sklearn.metrics import r2_score, mean_absolute_error, mean_squared_error\n",
    "from xgboost import XGBRegressor\n",
    "from collections import OrderedDict\n",
    "from time import time\n",
    "from sklearn.model_selection import train_test_split, KFold\n",
    "\n",
    "import utils\n",
    "import plotter\n",
    "\n",
    "from sklearn.feature_selection import RFECV\n",
    "\n",
    "%matplotlib inline\n",
    "%config InlineBackend.figure_format='retina'\n",
    "\n",
    "PATH = os.getcwd()\n",
    "RNG_SEED = 42\n",
    "np.random.seed(seed=RNG_SEED)"
   ]
  },
  {
   "cell_type": "code",
   "execution_count": 3,
   "id": "0bc92268",
   "metadata": {},
   "outputs": [],
   "source": [
    "data_path_jarvis = os.path.join(PATH, './data/descriptors//jarvis.bin')\n",
    "data_path_magpie = os.path.join(PATH, './data/descriptors/magpie.bin')\n",
    "data_path_mat2vec = os.path.join(PATH, './data/descriptors/mat2vec.bin')\n",
    "data_path_oliynyk = os.path.join(PATH, './data/descriptors/oliynyk.bin')\n",
    "data_path_onehot = os.path.join(PATH, './data/descriptors/onehot.bin')\n",
    "data_path_random_200 = os.path.join(PATH, './data/descriptors/random_200.bin')\n",
    "\n",
    "data_path = [data_path_jarvis, data_path_magpie, data_path_mat2vec, data_path_oliynyk, data_path_onehot, data_path_random_200]\n",
    "x_value_raw = {}\n",
    "x_label = ['jarvis', 'magpie', 'mat2vec', 'oliynyk', 'onehot', 'random_200']\n",
    "\n",
    "for path, label in zip(data_path, x_label):\n",
    "    with open(path, 'rb') as f:\n",
    "        x_value_raw[label] = pickle.load(f)"
   ]
  },
  {
   "cell_type": "code",
   "execution_count": 7,
   "id": "8bcd25d9",
   "metadata": {},
   "outputs": [],
   "source": [
    "df_classics = pd.DataFrame(columns=['label',\n",
    "                                    'n_features',\n",
    "                                    'model',\n",
    "                                    'r2_val',\n",
    "                                    'mae_val',\n",
    "                                    'rmse_val',\n",
    "                                    'gird_score'\n",
    "                                    ])"
   ]
  },
  {
   "cell_type": "code",
   "execution_count": null,
   "id": "73e0b403",
   "metadata": {},
   "outputs": [],
   "source": [
    "for label, data in x_value_raw.items():\n",
    "\n",
    "    length = len(x_value_raw[label][0].columns)\n",
    "\n",
    "    X, y = data[0], data[1]\n",
    "    X_train, X_test, y_train, y_test = train_test_split(X, y, test_size=0.15, random_state=RNG_SEED)\n",
    "\n",
    "    visualizer = RFECV(RandomForestRegressor(n_jobs=-1, random_state=RNG_SEED, verbose=0), \n",
    "                       step=int(length*0.01), n_jobs=-1, cv=5, scoring='neg_root_mean_squared_error')\n",
    "    visualizer = visualizer.fit(X_train, y_train)\n",
    "    \n",
    "    r2_val, mae_val, rmse_val = utils.evaluate_model(visualizer, X_test, y_test)\n",
    "    result_dict = {\n",
    "                    'label': label,\n",
    "                    'n_features': visualizer.n_features_,\n",
    "                    'model': visualizer,\n",
    "                    'r2_val': r2_val,\n",
    "                    'mae_val': mae_val,\n",
    "                    'rmse_val': rmse_val,\n",
    "                    'gird_score': visualizer.grid_scores_\n",
    "                    }\n",
    "\n",
    "    print(f\"Optimal number of features for {label}: {visualizer.n_features_}\")\n",
    "    plotter.plot_RFECV(label, visualizer)\n",
    "    \n",
    "    df_classics = append_result_df(df_classics, result_dict)\n",
    "        \n",
    "    y_pred = visualizer.predict(X_test)\n",
    "    plot = plotter.plot_pred_act(y_test, y_pred, label, visualizer, label='defect formation energy (eV)')"
   ]
  }
 ],
 "metadata": {
  "kernelspec": {
   "display_name": "Matminer",
   "language": "python",
   "name": "matminer"
  },
  "language_info": {
   "codemirror_mode": {
    "name": "ipython",
    "version": 3
   },
   "file_extension": ".py",
   "mimetype": "text/x-python",
   "name": "python",
   "nbconvert_exporter": "python",
   "pygments_lexer": "ipython3",
   "version": "3.9.7"
  }
 },
 "nbformat": 4,
 "nbformat_minor": 5
}
