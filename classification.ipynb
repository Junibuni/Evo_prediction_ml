{
 "cells": [
  {
   "cell_type": "code",
   "execution_count": null,
   "id": "01d6341d",
   "metadata": {},
   "outputs": [],
   "source": [
    "import os\n",
    "import re\n",
    "import pickle\n",
    "import numpy as np\n",
    "import pandas as pd\n",
    "import matplotlib.pyplot as plt\n",
    "import joblib\n",
    "from tqdm import tqdm\n",
    "from sklearn.ensemble import GradientBoostingClassifier\n",
    "from sklearn.model_selection import GridSearchCV\n",
    "from collections import OrderedDict\n",
    "from time import time\n",
    "\n",
    "from sklearn import metrics\n",
    "from sklearn.metrics import classification_report\n",
    "from sklearn.metrics import precision_recall_curve\n",
    "from sklearn.metrics import confusion_matrix\n",
    "from sklearn.metrics import f1_score\n",
    "from sklearn.metrics import roc_curve, auc, average_precision_score\n",
    "\n",
    "%matplotlib inline\n",
    "%config InlineBackend.figure_format='retina'\n",
    "\n",
    "from sklearn.model_selection import train_test_split\n",
    "\n",
    "PATH = os.getcwd()\n",
    "RNG_SEED = 42\n",
    "np.random.seed(seed=RNG_SEED)"
   ]
  },
  {
   "cell_type": "code",
   "execution_count": null,
   "id": "117937d0",
   "metadata": {},
   "outputs": [],
   "source": [
    "data_path_jarvis = os.path.join(PATH, '../data/featurize/jarvis.bin')\n",
    "data_path_magpie = os.path.join(PATH, '../data/featurize/magpie.bin')\n",
    "data_path_deltasoap_212 = os.path.join(PATH, '../data/featurize/df_deltasoap_212.pkl')\n",
    "\n",
    "data_path = [data_path_jarvis, \n",
    "             data_path_magpie, \n",
    "             data_path_deltasoap_212]\n",
    "x_value_raw = {}\n",
    "x_label = ['jarvis', \n",
    "           'magpie',\n",
    "           'deltasoap_212']\n",
    "\n",
    "for path, label in zip(data_path, x_label):\n",
    "    with open(path, 'rb') as f:\n",
    "        x_value_raw[label] = pickle.load(f)"
   ]
  },
  {
   "cell_type": "code",
   "execution_count": null,
   "id": "1fe71037",
   "metadata": {},
   "outputs": [],
   "source": [
    "X_merge = pd.concat([x_value_raw['jarvis'][0], x_value_raw['magpie'][0]], axis=1)\n",
    "X_data = corr_reduction(corr, 0.8, X_merge.abs())"
   ]
  },
  {
   "cell_type": "code",
   "execution_count": null,
   "id": "8c7a7ae8",
   "metadata": {},
   "outputs": [],
   "source": [
    "X = pd.concat([X_data, x_value_raw['deltasoap_212'].set_index(X_data.index)], axis=1)\n",
    "y = x_value_raw['jarvis'][1]"
   ]
  },
  {
   "cell_type": "code",
   "execution_count": null,
   "id": "5339bda2",
   "metadata": {},
   "outputs": [],
   "source": [
    "diff = y <= 3\n",
    "y = list(map(lambda x: 0 if x else 1, diff))"
   ]
  },
  {
   "cell_type": "code",
   "execution_count": null,
   "id": "f15c9a7c",
   "metadata": {},
   "outputs": [],
   "source": [
    "gbc = GradientBoostingClassifier(learning_rate= 0.05,\n",
    " max_depth= 5,\n",
    " min_samples_leaf= 0.1,\n",
    " min_samples_split= 0.3,\n",
    " n_estimators= 1500,\n",
    " subsample= 1.0,)\n",
    "\n",
    "from sklearn.model_selection import cross_val_predict\n",
    "y_score = cross_val_predict(gbc, X, y, cv=5, n_jobs=-1, verbose=1, method='predict_proba')\n",
    "y_pred = cross_val_predict(gbc, X, y, cv=5, n_jobs=-1, verbose=1, method='predict')"
   ]
  },
  {
   "cell_type": "code",
   "execution_count": null,
   "id": "1fd0a4b4",
   "metadata": {},
   "outputs": [],
   "source": [
    "#precision-recall curve\n",
    "\n",
    "precision, recall, _ = precision_recall_curve(y, y_score[:,1])\n",
    "aps = average_precision_score(y, y_score[:,1])\n",
    "print(f'average precision score is {aps:.2f}')\n",
    "\n",
    "from sklearn.metrics import PrecisionRecallDisplay\n",
    "\n",
    "display = PrecisionRecallDisplay.from_predictions(y, y_score[:,1], name=\"Gradient Boosting\")\n",
    "#_ = display.ax_.set_title(\"Precision-Recall curve\")"
   ]
  },
  {
   "cell_type": "code",
   "execution_count": null,
   "id": "2fb2bb4a",
   "metadata": {},
   "outputs": [],
   "source": [
    "#Confusion matrix\n",
    "\n",
    "import seaborn as sns\n",
    "\n",
    "ax = sns.heatmap(confusion_matrix(y,y_pred), annot=True, cmap='Blues', fmt='g')\n",
    "ax.set_xlabel('\\nPredicted Values')\n",
    "ax.set_ylabel('Actual Values ');\n",
    "\n",
    "## Ticket labels - List must be in alphabetical order\n",
    "ax.xaxis.set_ticklabels(['False','True'])\n",
    "ax.yaxis.set_ticklabels(['False','True'])\n",
    "\n",
    "## Display the visualization of the Confusion Matrix.\n",
    "plt.show()"
   ]
  },
  {
   "cell_type": "code",
   "execution_count": null,
   "id": "a0ef3223",
   "metadata": {},
   "outputs": [],
   "source": [
    "#ROC-AUC curve\n",
    "fper, tper, threshold = roc_curve(y, y_score[:,1])\n",
    "plotter.plot_roc_curve(fper, tper)"
   ]
  },
  {
   "cell_type": "code",
   "execution_count": null,
   "id": "71305dd4",
   "metadata": {},
   "outputs": [],
   "source": [
    "#summary table\n",
    "print(classification_report(y, y_pred, target_names=['low energy', 'high energy']))"
   ]
  },
  {
   "cell_type": "code",
   "execution_count": null,
   "id": "8773d7f9",
   "metadata": {},
   "outputs": [],
   "source": [
    "#precision-recall curve in the function of threshold (opitmisation)\n",
    "\n",
    "precision, recall, threshold = precision_recall_curve(y, y_score[:, 1])\n",
    "plot_precision_recall_vs_threshold(precision, recall, threshold)"
   ]
  }
 ],
 "metadata": {
  "kernelspec": {
   "display_name": "Matminer",
   "language": "python",
   "name": "matminer"
  },
  "language_info": {
   "codemirror_mode": {
    "name": "ipython",
    "version": 3
   },
   "file_extension": ".py",
   "mimetype": "text/x-python",
   "name": "python",
   "nbconvert_exporter": "python",
   "pygments_lexer": "ipython3",
   "version": "3.9.7"
  }
 },
 "nbformat": 4,
 "nbformat_minor": 5
}
