{
 "cells": [
  {
   "cell_type": "code",
   "execution_count": 1,
   "id": "f04ac8e1",
   "metadata": {},
   "outputs": [],
   "source": [
    "import os\n",
    "import re\n",
    "import pickle\n",
    "import numpy as np\n",
    "import pandas as pd\n",
    "import matplotlib.pyplot as plt\n",
    "import joblib\n",
    "from tqdm import tqdm\n",
    "from sklearn.ensemble import RandomForestRegressor, GradientBoostingRegressor\n",
    "from sklearn.metrics import r2_score, mean_absolute_error, mean_squared_error\n",
    "from sklearn.model_selection import GridSearchCV\n",
    "from sklearn.pipeline import Pipeline\n",
    "from sklearn.feature_selection import RFECV\n",
    "from collections import OrderedDict\n",
    "from time import time\n",
    "\n",
    "import utils\n",
    "import plotter\n",
    "\n",
    "from pydotplus import graph_from_dot_data\n",
    "from IPython.display import Image\n",
    "from sklearn.tree import export_graphviz\n",
    "\n",
    "%matplotlib inline\n",
    "%config InlineBackend.figure_format='retina'\n",
    "\n",
    "from sklearn.model_selection import train_test_split\n",
    "\n",
    "PATH = os.getcwd()\n",
    "RNG_SEED = 42\n",
    "np.random.seed(seed=RNG_SEED)"
   ]
  },
  {
   "cell_type": "code",
   "execution_count": null,
   "id": "e413cd8d",
   "metadata": {},
   "outputs": [],
   "source": [
    "data_path_jarvis = os.path.join(PATH, './data/descriptors/jarvis.bin')\n",
    "data_path_magpie = os.path.join(PATH, './data/descriptors/magpie.bin')\n",
    "data_path_deltasoap_212 = os.path.join(PATH, './data/descriptors/df_deltasoap_212.pkl')\n",
    "data_path_soap_reduced = os.path.join(PATH, './data/descriptors/df_soap_reduced.pkl')\n",
    "data_path_soap_reduced_host = os.path.join(PATH, './data/descriptors/df_soap_reduced_host.pkl')\n",
    "data_path_soap_reduced_delta = os.path.join(PATH, './data/descriptors/df_soap_reduced_delta.pkl')\n",
    "\n",
    "data_path = [data_path_jarvis, \n",
    "             data_path_magpie, \n",
    "             data_path_deltasoap_212, \n",
    "             data_path_soap_reduced, \n",
    "             data_path_soap_reduced_host, \n",
    "             data_path_soap_reduced_delta]\n",
    "x_value_raw = {}\n",
    "x_label = ['jarvis', \n",
    "           'magpie',\n",
    "           'deltasoap_212',\n",
    "           'soap_reduced',\n",
    "           'soap_reduced_host',\n",
    "           'soap_reduced_delta']\n",
    "\n",
    "for path, label in zip(data_path, x_label):\n",
    "    with open(path, 'rb') as f:\n",
    "        x_value_raw[label] = pickle.load(f)"
   ]
  },
  {
   "cell_type": "code",
   "execution_count": null,
   "id": "b6b47d90",
   "metadata": {},
   "outputs": [],
   "source": [
    "X_merge = pd.concat([x_value_raw['jarvis'][0], x_value_raw['magpie'][0]], axis=1)"
   ]
  },
  {
   "cell_type": "code",
   "execution_count": null,
   "id": "8a49b62b",
   "metadata": {},
   "outputs": [],
   "source": [
    "corr = X_merge.corr().abs()\n",
    "X_data = utils.corr_reduction(corr, 0.8, X_merge)"
   ]
  },
  {
   "cell_type": "code",
   "execution_count": null,
   "id": "2ae8c6aa",
   "metadata": {},
   "outputs": [],
   "source": [
    "X_imp_based_delta = pd.concat([X_data, x_value_raw['deltasoap_212'].set_index(X_data.index)], axis=1)\n",
    "X_soap_reduced = pd.concat([X_data, x_value_raw['soap_reduced'].set_index(X_data.index)], axis=1)\n",
    "X_soap_reduced_delta = pd.concat([X_data, x_value_raw['soap_reduced_delta'].set_index(X_data.index)], axis=1)\n",
    "y = x_value_raw['jarvis'][1]"
   ]
  },
  {
   "cell_type": "code",
   "execution_count": null,
   "id": "09c75384",
   "metadata": {},
   "outputs": [],
   "source": [
    "scheme_label = {'X_imp_based_delta': X_imp_based_delta, \n",
    "                'X_soap_reduced_delta': X_soap_reduced_delta}\n",
    "classic_models = OrderedDict()\n",
    "y = x_value_raw['jarvis'][1]\n",
    "\n",
    "for lab, label in tqdm(scheme_label.items()):\n",
    "    models = [RandomForestRegressor(), GradientBoostingRegressor(learning_rate=0.1,\n",
    "                                                                max_depth=3,\n",
    "                                                                n_estimators=1500,\n",
    "                                                                subsample=0.7)]\n",
    "    for model in models:\n",
    "        X = label\n",
    "        X_train, X_test, y_train, y_test = train_test_split(X, y, test_size=0.15, random_state=RNG_SEED)\n",
    "        model, result_dict = fit_evaluate_model(model, X_train, y_train, X_test, y_test, lab)\n",
    "        df_classics = append_result_df(df_classics, result_dict)\n",
    "        classic_models = append_model_dict(classic_models, model, label)"
   ]
  },
  {
   "cell_type": "code",
   "execution_count": null,
   "id": "d1fc6e5b",
   "metadata": {},
   "outputs": [],
   "source": [
    "#permutation importance\n",
    "from sklearn.inspection import permutation_importance\n",
    "X = X_imp_based_delta\n",
    "y = x_value_raw['jarvis'][1]\n",
    "rf = df_classics['model'].iloc[1]\n",
    "X_train, X_test, y_train, y_test = train_test_split(X, y, test_size=0.15, random_state=RNG_SEED)\n",
    "result = permutation_importance(\n",
    "    rf, X_test, y_test, n_repeats=10, random_state=42, n_jobs=-1\n",
    ")\n",
    "\n",
    "sorted_importances_idx = result.importances_mean.argsort()[:10]\n",
    "importances = pd.DataFrame(\n",
    "    result.importances[sorted_importances_idx].T,\n",
    "    columns=X.columns[sorted_importances_idx],\n",
    ")\n",
    "ax = importances.plot.box(vert=False, whis=10)\n",
    "ax.axvline(x=0, color=\"k\", linestyle=\"--\")\n",
    "ax.set_xlabel(\"Decrease in accuracy score\")\n",
    "ax.figure.tight_layout()"
   ]
  },
  {
   "cell_type": "code",
   "execution_count": null,
   "id": "1106832d",
   "metadata": {},
   "outputs": [],
   "source": [
    "#under/over estimation\n",
    "y_test_data = df_classics['y_test'].iloc[1]\n",
    "y_predict_data = df_classics['predict'].iloc[1]\n",
    "difference = y_predict_data - y_test_data\n",
    "dd = pd.DataFrame(difference).reset_index().drop(axis = 1, labels = 'index')\n",
    "dd.insert(0, 'test', y_test_data.reset_index().drop(axis = 1, labels = 'index'))\n",
    "dd.sort_values(by=['act'], inplace=True)"
   ]
  },
  {
   "cell_type": "code",
   "execution_count": null,
   "id": "c8262c80",
   "metadata": {},
   "outputs": [],
   "source": [
    "df_path = os.path.join(PATH, './data/defect_df.p')\n",
    "dataframe = pd.read_pickle(df_path)\n",
    "dataframe['defect_formation_energy'] = dataframe['defect_formation_energy'].round(6)\n",
    "extract_df = dataframe[['name', 'defect_index', 'formula', 'mp_id', 'defect_formation_energy']]\n",
    "extract_df.columns = ['name', 'defect_index', 'formula', 'mp_id', 'target']"
   ]
  },
  {
   "cell_type": "code",
   "execution_count": null,
   "id": "5ce1159f",
   "metadata": {},
   "outputs": [],
   "source": [
    "def get_plot_over_under_estimate(extract_df, dd, threshold=5):\n",
    "    underestimate = extract_df[extract_df['target'].isin(np.array(dd.iloc[:threshold]['act']).round(6))]\n",
    "    overesimate = extract_df[extract_df['target'].isin(np.array(dd.iloc[-threshold:]['act']).round(6))]\n",
    "    \n",
    "    plt.figure(figsize=(9,6))\n",
    "    plt.grid(False)\n",
    "    plt.plot(dd['act'][threshold:-threshold], dd['target'][threshold:-threshold], 'o', ms=9, mec='k', mfc='silver', alpha=0.4)\n",
    "    plt.plot(dd['act'][:threshold], dd['target'][:threshold], 'o', ms=9, mec='k', mfc='orange', alpha=0.4)\n",
    "    plt.plot(dd['act'][-threshold:], dd['target'][-threshold:], 'o', ms=9, mec='k', mfc='orange', alpha=0.4)\n",
    "    plt.ylabel(f'Energy difference (ev)')\n",
    "    plt.xlabel(f'Oxygen vacancy formation energy (eV)')\n",
    "    \n",
    "    top_under = extract_df[extract_df['target'].isin(np.array(dd.iloc[0]['act']).round(6))]['formula']\n",
    "    top_over = extract_df[extract_df['target'].isin(np.array(dd.iloc[-1]['act']).round(6))]['formula']\n",
    "    \n",
    "    plt.annotate(plotter.chemeq(top_under), (dd['act'][:threshold].iloc[0], dd['target'][:threshold].iloc[0]))\n",
    "    plt.annotate(plotter.chemeq(top_over), (dd['act'][-threshold:].iloc[-1], dd['target'][-threshold:].iloc[-1]))\n",
    "    plt.axhline(0, color='black')\n",
    "    return underestimate, overesimate"
   ]
  },
  {
   "cell_type": "code",
   "execution_count": null,
   "id": "26e743b2",
   "metadata": {},
   "outputs": [],
   "source": [
    "underestimate, overesimate = get_plot_over_under_estimate(extract_df, dd, threshold=5)"
   ]
  },
  {
   "cell_type": "code",
   "execution_count": null,
   "id": "006a26f7",
   "metadata": {},
   "outputs": [],
   "source": [
    "#SHAP plot\n",
    "\n",
    "m = df_classics['model'].iloc[0]\n",
    "explainer = shap.TreeExplainer(m)\n",
    "X = X_imp_based_delta\n",
    "plt.grid(False)\n",
    "shap_values = explainer.shap_values(X)\n",
    "i = 4\n",
    "shap.force_plot(explainer.expected_value, shap_values[i], features=X.iloc[i], feature_names=X.columns)\n",
    "plt.figure(figsize=(10,8))\n",
    "plt.grid(False)\n",
    "shap.summary_plot(shap_values, features=X, feature_names=X.columns, max_display=7, show=False)\n",
    "plt.gcf().axes[-1].set_aspect(100)\n",
    "plt.gcf().axes[-1].set_box_aspect(100)\n",
    "plt.figure(figsize=(10,8))\n",
    "plt.grid(False)\n",
    "shap.summary_plot(shap_values, features=X, feature_names=X.columns, plot_type='bar', max_display=7, color='grey')"
   ]
  },
  {
   "cell_type": "code",
   "execution_count": null,
   "id": "59f0784c",
   "metadata": {},
   "outputs": [],
   "source": [
    "#Tree visualization\n",
    "\n",
    "from sklearn.tree import export_graphviz\n",
    "#42th tree\n",
    "sub_tree_42 = df_classics['model'].iloc[1].estimators_[42, 0]\n",
    "\n",
    "#Export as dot file\n",
    "export_graphviz(sub_tree_42, out_file='tree.dot', feature_names = X_imp_based_delta.columns, \n",
    "                rounded = True, proportion = True, precision = 3, filled = True)\n",
    "\n",
    "#Convert to png using system command (requires Graphviz)\n",
    "from subprocess import call \n",
    "call(['dot', '-Tpng', 'tree.dot', '-o', 'tree.png', '-Gdpi=600'])\n",
    "\n",
    "#Display in jupyter notebook\n",
    "from IPython.display import Image \n",
    "Image(filename = 'tree.png')"
   ]
  },
  {
   "cell_type": "code",
   "execution_count": null,
   "id": "c98138c0",
   "metadata": {},
   "outputs": [],
   "source": [
    "for row in range(table.shape[0]):\n",
    "    act = table['y_test'][row]\n",
    "    pred = table['predict'][row]\n",
    "    feature_name = table['feature'][row]\n",
    "    model = table['model_name'][row]\n",
    "    plotter.plot_pred_act(act, pred, feature_name, model, reg_line=True, label='')"
   ]
  }
 ],
 "metadata": {
  "kernelspec": {
   "display_name": "Matminer",
   "language": "python",
   "name": "matminer"
  },
  "language_info": {
   "codemirror_mode": {
    "name": "ipython",
    "version": 3
   },
   "file_extension": ".py",
   "mimetype": "text/x-python",
   "name": "python",
   "nbconvert_exporter": "python",
   "pygments_lexer": "ipython3",
   "version": "3.9.7"
  }
 },
 "nbformat": 4,
 "nbformat_minor": 5
}
