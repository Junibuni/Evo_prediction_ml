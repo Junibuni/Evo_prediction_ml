{
 "cells": [
  {
   "cell_type": "code",
   "execution_count": 1,
   "id": "78adea00",
   "metadata": {},
   "outputs": [],
   "source": [
    "import os\n",
    "import re\n",
    "import pickle\n",
    "import numpy as np\n",
    "import pandas as pd\n",
    "import matplotlib.pyplot as plt\n",
    "import joblib\n",
    "from tqdm import tqdm\n",
    "from sklearn.ensemble import RandomForestRegressor, GradientBoostingRegressor\n",
    "from xgboost import XGBRegressor\n",
    "from sklearn.metrics import r2_score, mean_absolute_error, mean_squared_error\n",
    "from sklearn.model_selection import GridSearchCV\n",
    "from sklearn.pipeline import Pipeline\n",
    "from collections import OrderedDict\n",
    "from time import time\n",
    "import utils\n",
    "import plotter\n",
    "\n",
    "%matplotlib inline\n",
    "%config InlineBackend.figure_format='retina'\n",
    "\n",
    "from sklearn.model_selection import train_test_split\n",
    "\n",
    "PATH = os.getcwd()\n",
    "RNG_SEED = 42\n",
    "np.random.seed(seed=RNG_SEED)"
   ]
  },
  {
   "cell_type": "code",
   "execution_count": 3,
   "id": "2a5ae6ac",
   "metadata": {},
   "outputs": [],
   "source": [
    "data_path_jarvis = os.path.join(PATH, './data/descriptors/jarvis.bin')\n",
    "data_path_magpie = os.path.join(PATH, './data/descriptors/magpie.bin')\n",
    "\n",
    "data_path = [data_path_jarvis, \n",
    "             data_path_magpie,]\n",
    "x_value_raw = {}\n",
    "x_label = ['jarvis', \n",
    "           'magpie',]\n",
    "\n",
    "for path, label in zip(data_path, x_label):\n",
    "    with open(path, 'rb') as f:\n",
    "        x_value_raw[label] = pickle.load(f)"
   ]
  },
  {
   "cell_type": "code",
   "execution_count": 4,
   "id": "bba09d5d",
   "metadata": {},
   "outputs": [
    {
     "name": "stdout",
     "output_type": "stream",
     "text": [
      "length of jarvis is 3066\n",
      "length of magpie is 154\n"
     ]
    }
   ],
   "source": [
    "for label, data in x_value_raw.items():\n",
    "        print(f'length of {label} is {len(data[0].columns)}')"
   ]
  },
  {
   "cell_type": "code",
   "execution_count": 5,
   "id": "840438ad",
   "metadata": {},
   "outputs": [],
   "source": [
    "X_merge = pd.concat([x_value_raw['jarvis'][0], x_value_raw['magpie'][0]], axis=1)"
   ]
  },
  {
   "cell_type": "code",
   "execution_count": null,
   "id": "48c4b6ca",
   "metadata": {},
   "outputs": [],
   "source": [
    "corr = X_merge.corr().abs()\n",
    "X_data = utils.corr_reduction(corr, 0.8, X_merge)"
   ]
  },
  {
   "cell_type": "code",
   "execution_count": null,
   "id": "333a774e",
   "metadata": {},
   "outputs": [],
   "source": [
    "import seaborn as sns\n",
    "ax = sns.heatmap(corr)\n",
    "ax.axes.yaxis.set_visible(False)\n",
    "ax.axes.xaxis.set_visible(False)"
   ]
  },
  {
   "cell_type": "code",
   "execution_count": null,
   "id": "073976fe",
   "metadata": {},
   "outputs": [],
   "source": [
    "df_classics = pd.DataFrame(columns=[\n",
    "        'feature',\n",
    "        'model_name',\n",
    "        'model',\n",
    "        'fit_time',\n",
    "        'r2_train',\n",
    "        'mae_train',\n",
    "        'rmse_train',\n",
    "        'r2_val',\n",
    "        'mae_val',\n",
    "        'rmse_val',\n",
    "        'y_test',\n",
    "        'predict',])"
   ]
  },
  {
   "cell_type": "code",
   "execution_count": null,
   "id": "2491962b",
   "metadata": {},
   "outputs": [],
   "source": [
    "scheme_label = {'X_merge': X_merge}\n",
    "classic_models = OrderedDict()\n",
    "y = x_value_raw['jarvis'][1]\n",
    "\n",
    "param_grid = {'rfr':{ 'n_estimators' : [1500], # number of trees in the random forest\n",
    "                    'max_features' : ['auto', 'sqrt'], # number of features in consideration at every split\n",
    "                    'max_depth' : [int(x) for x in np.linspace(10, 120, num = 12)], # maximum number of levels allowed in each decision tree\n",
    "                    'min_samples_split' : [2, 6, 10], # minimum sample number to split a node\n",
    "                    'min_samples_leaf' : [1, 3, 4],\n",
    "            },\n",
    "              'gbr':{'n_estimators':[1500],\n",
    "                     'learning_rate':[.001,0.01,.1],\n",
    "                     'max_depth':[1,2,4],\n",
    "                     'subsample':[.5,.75,1],\n",
    "                     'random_state':[1]}\n",
    "             }\n",
    "\n",
    "for label, data in scheme_label.items():\n",
    "    models = {'rfr':RandomForestRegressor(), 'gbr': GradientBoostingRegressor()}\n",
    "    for model_label, model_class in models.items():\n",
    "        X = data\n",
    "        model = model_class\n",
    "        X_train, X_test, y_train, y_test = train_test_split(X, y, test_size=0.15, random_state=RNG_SEED)\n",
    "        model, result_dict = utils.fit_evaluate_model(model, X_train, y_train, X_test, y_test, label, param_grid[model_label])\n",
    "        df_classics = utils.append_result_df(df_classics, result_dict)\n",
    "        classic_models = utils.append_model_dict(classic_models, model, label)"
   ]
  },
  {
   "cell_type": "code",
   "execution_count": null,
   "id": "0431f183",
   "metadata": {},
   "outputs": [],
   "source": [
    "for row in range(df_classics.shape[0]):\n",
    "    act = table['y_test'][row]\n",
    "    pred = table['predict'][row]\n",
    "    feature_name = table['feature'][row]\n",
    "    model = table['model_name'][row]\n",
    "    utils.plot_pred_act(act, pred, feature_name, model, reg_line=True, label='')"
   ]
  }
 ],
 "metadata": {
  "kernelspec": {
   "display_name": "Matminer",
   "language": "python",
   "name": "matminer"
  },
  "language_info": {
   "codemirror_mode": {
    "name": "ipython",
    "version": 3
   },
   "file_extension": ".py",
   "mimetype": "text/x-python",
   "name": "python",
   "nbconvert_exporter": "python",
   "pygments_lexer": "ipython3",
   "version": "3.9.7"
  }
 },
 "nbformat": 4,
 "nbformat_minor": 5
}
