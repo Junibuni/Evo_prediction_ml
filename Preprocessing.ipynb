{
 "cells": [
  {
   "cell_type": "code",
   "execution_count": 2,
   "id": "b58f0c55",
   "metadata": {},
   "outputs": [],
   "source": [
    "import os\n",
    "import numpy as np\n",
    "import pandas as pd\n",
    "import matplotlib.pyplot as plt\n",
    "import seaborn as sns\n",
    "import pickle\n",
    "from CBFV import composition\n",
    "from matminer.featurizers.structure import DensityFeatures\n",
    "from matminer.featurizers.conversions import StructureToComposition\n",
    "from matminer.utils.io import load_dataframe_from_json\n",
    "%matplotlib inline\n",
    "%config InlineBackend.figure_format='retina'\n",
    "\n",
    "PATH = os.getcwd()\n",
    "data_path = os.path.join(PATH, 'data/defect_df_bg.json')"
   ]
  },
  {
   "cell_type": "code",
   "execution_count": 13,
   "id": "e8b9d6ee",
   "metadata": {},
   "outputs": [
    {
     "name": "stderr",
     "output_type": "stream",
     "text": [
      "Reading file /Users/choi/Documents/Evo_prediction_ml/data/defect_df_bg.json: 0it [00:20, ?it/s]         \n",
      "Decoding objects from /Users/choi/Documents/Evo_prediction_ml/data/defect_df_bg.\n"
     ]
    }
   ],
   "source": [
    "df = load_dataframe_from_json(data_path)"
   ]
  },
  {
   "cell_type": "code",
   "execution_count": 14,
   "id": "7739ac32",
   "metadata": {},
   "outputs": [
    {
     "data": {
      "application/vnd.jupyter.widget-view+json": {
       "model_id": "9a5427d38d804b07b9ba2fcdfbecfcab",
       "version_major": 2,
       "version_minor": 0
      },
      "text/plain": [
       "StructureToComposition:   0%|          | 0/1667 [00:00<?, ?it/s]"
      ]
     },
     "metadata": {},
     "output_type": "display_data"
    }
   ],
   "source": [
    "stc = StructureToComposition()\n",
    "df = stc.featurize_dataframe(df, 'defect_structure_original')"
   ]
  },
  {
   "cell_type": "code",
   "execution_count": 15,
   "id": "a131fb4e",
   "metadata": {},
   "outputs": [],
   "source": [
    "#add density feature if necessary\n",
    "for i in df.index:\n",
    "    tmp = df['defect_structure_original'][i]\n",
    "    ifor_val = DensityFeatures(desired_features=['density', 'vpa', 'packing fraction']).featurize(tmp)\n",
    "    df.at[i,('density', 'vpa', 'packing fraction')] = ifor_val"
   ]
  },
  {
   "cell_type": "code",
   "execution_count": 16,
   "id": "a6ee8419",
   "metadata": {},
   "outputs": [
    {
     "data": {
      "text/html": [
       "<div>\n",
       "<style scoped>\n",
       "    .dataframe tbody tr th:only-of-type {\n",
       "        vertical-align: middle;\n",
       "    }\n",
       "\n",
       "    .dataframe tbody tr th {\n",
       "        vertical-align: top;\n",
       "    }\n",
       "\n",
       "    .dataframe thead th {\n",
       "        text-align: right;\n",
       "    }\n",
       "</style>\n",
       "<table border=\"1\" class=\"dataframe\">\n",
       "  <thead>\n",
       "    <tr style=\"text-align: right;\">\n",
       "      <th></th>\n",
       "      <th>formula</th>\n",
       "      <th>target</th>\n",
       "    </tr>\n",
       "  </thead>\n",
       "  <tbody>\n",
       "    <tr>\n",
       "      <th>1917</th>\n",
       "      <td>Ta64Zn96O255</td>\n",
       "      <td>6.034068</td>\n",
       "    </tr>\n",
       "    <tr>\n",
       "      <th>1827</th>\n",
       "      <td>Sr18W6O35</td>\n",
       "      <td>6.877819</td>\n",
       "    </tr>\n",
       "    <tr>\n",
       "      <th>352</th>\n",
       "      <td>Ca72Mg36W36O215</td>\n",
       "      <td>6.900110</td>\n",
       "    </tr>\n",
       "    <tr>\n",
       "      <th>91</th>\n",
       "      <td>Ba54Mg27B54O161</td>\n",
       "      <td>7.094550</td>\n",
       "    </tr>\n",
       "    <tr>\n",
       "      <th>1868</th>\n",
       "      <td>Sr48Ge48Pb48O191</td>\n",
       "      <td>4.234480</td>\n",
       "    </tr>\n",
       "    <tr>\n",
       "      <th>...</th>\n",
       "      <td>...</td>\n",
       "      <td>...</td>\n",
       "    </tr>\n",
       "    <tr>\n",
       "      <th>1638</th>\n",
       "      <td>Rb48Sb48Mo48O287</td>\n",
       "      <td>3.978585</td>\n",
       "    </tr>\n",
       "    <tr>\n",
       "      <th>1095</th>\n",
       "      <td>Li48Zr16O55</td>\n",
       "      <td>7.250386</td>\n",
       "    </tr>\n",
       "    <tr>\n",
       "      <th>1130</th>\n",
       "      <td>Li32Nb32O63</td>\n",
       "      <td>6.372364</td>\n",
       "    </tr>\n",
       "    <tr>\n",
       "      <th>1294</th>\n",
       "      <td>Na72Au24O71</td>\n",
       "      <td>2.971172</td>\n",
       "    </tr>\n",
       "    <tr>\n",
       "      <th>860</th>\n",
       "      <td>K8La16Nb8O47</td>\n",
       "      <td>6.601246</td>\n",
       "    </tr>\n",
       "  </tbody>\n",
       "</table>\n",
       "<p>1667 rows × 2 columns</p>\n",
       "</div>"
      ],
      "text/plain": [
       "               formula    target\n",
       "1917      Ta64Zn96O255  6.034068\n",
       "1827         Sr18W6O35  6.877819\n",
       "352    Ca72Mg36W36O215  6.900110\n",
       "91     Ba54Mg27B54O161  7.094550\n",
       "1868  Sr48Ge48Pb48O191  4.234480\n",
       "...                ...       ...\n",
       "1638  Rb48Sb48Mo48O287  3.978585\n",
       "1095       Li48Zr16O55  7.250386\n",
       "1130       Li32Nb32O63  6.372364\n",
       "1294       Na72Au24O71  2.971172\n",
       "860       K8La16Nb8O47  6.601246\n",
       "\n",
       "[1667 rows x 2 columns]"
      ]
     },
     "execution_count": 16,
     "metadata": {},
     "output_type": "execute_result"
    }
   ],
   "source": [
    "extract_df = df[['composition', 'defect_formation_energy']]\n",
    "extract_df.columns = ['formula', 'target']\n",
    "clean_df = extract_df.copy()\n",
    "clean_df['formula'] = extract_df['formula'].apply(lambda x: str(x).replace(\" \", \"\"))\n",
    "\n",
    "clean_df"
   ]
  },
  {
   "cell_type": "code",
   "execution_count": 17,
   "id": "e5d5b99e",
   "metadata": {},
   "outputs": [
    {
     "name": "stdout",
     "output_type": "stream",
     "text": [
      "Number of removed elements: 2\n",
      "Removed elements: \n",
      "          formula      target\n",
      "0       Cs150O74   -1.055934\n",
      "1  K108Cd108O161 -143.321646\n"
     ]
    }
   ],
   "source": [
    "original_length = len(clean_df)\n",
    "#remove_NaN value\n",
    "bool_nans_formula = clean_df['formula'].isnull()\n",
    "bool_nans_target = clean_df['target'].isnull()\n",
    "\n",
    "#remove defect energy that is less than 0\n",
    "bool_invalid_target = clean_df['target'] <= 0\n",
    "\n",
    "removed = pd.concat([clean_df.loc[bool_nans_formula], \n",
    "                     clean_df.loc[bool_nans_target], \n",
    "                     clean_df.loc[bool_invalid_target]], \n",
    "                    ignore_index=True, sort=False)\n",
    "\n",
    "clean_df = clean_df.drop(clean_df.loc[bool_nans_formula].index, axis=0)\n",
    "clean_df = clean_df.drop(clean_df.loc[bool_nans_target].index, axis=0)\n",
    "clean_df = clean_df.drop(clean_df.loc[bool_invalid_target].index, axis=0)\n",
    "\n",
    "print(f'Number of removed elements: {original_length-len(clean_df)}')\n",
    "print(f'Removed elements: \\n', removed)"
   ]
  },
  {
   "cell_type": "code",
   "execution_count": 18,
   "id": "eca74c60",
   "metadata": {},
   "outputs": [
    {
     "name": "stderr",
     "output_type": "stream",
     "text": [
      "Processing Input Data: 100%|█████████████| 1665/1665 [00:00<00:00, 53477.06it/s]\n"
     ]
    },
    {
     "name": "stdout",
     "output_type": "stream",
     "text": [
      "\tFeaturizing Compositions...\n"
     ]
    },
    {
     "name": "stderr",
     "output_type": "stream",
     "text": [
      "Assigning Features...: 100%|█████████████| 1665/1665 [00:00<00:00, 20417.67it/s]"
     ]
    },
    {
     "name": "stdout",
     "output_type": "stream",
     "text": [
      "\tCreating Pandas Objects...\n"
     ]
    },
    {
     "name": "stderr",
     "output_type": "stream",
     "text": [
      "\n",
      "Processing Input Data: 100%|█████████████| 1665/1665 [00:00<00:00, 55926.74it/s]\n"
     ]
    },
    {
     "name": "stdout",
     "output_type": "stream",
     "text": [
      "\tFeaturizing Compositions...\n"
     ]
    },
    {
     "name": "stderr",
     "output_type": "stream",
     "text": [
      "Assigning Features...: 100%|█████████████| 1665/1665 [00:00<00:00, 25789.61it/s]\n"
     ]
    },
    {
     "name": "stdout",
     "output_type": "stream",
     "text": [
      "\tCreating Pandas Objects...\n"
     ]
    },
    {
     "name": "stderr",
     "output_type": "stream",
     "text": [
      "Processing Input Data: 100%|█████████████| 1665/1665 [00:00<00:00, 54064.12it/s]\n"
     ]
    },
    {
     "name": "stdout",
     "output_type": "stream",
     "text": [
      "\tFeaturizing Compositions...\n"
     ]
    },
    {
     "name": "stderr",
     "output_type": "stream",
     "text": [
      "Assigning Features...: 100%|█████████████| 1665/1665 [00:00<00:00, 23853.09it/s]\n"
     ]
    },
    {
     "name": "stdout",
     "output_type": "stream",
     "text": [
      "\tCreating Pandas Objects...\n"
     ]
    },
    {
     "name": "stderr",
     "output_type": "stream",
     "text": [
      "Processing Input Data: 100%|█████████████| 1665/1665 [00:00<00:00, 55563.20it/s]\n"
     ]
    },
    {
     "name": "stdout",
     "output_type": "stream",
     "text": [
      "\tFeaturizing Compositions...\n"
     ]
    },
    {
     "name": "stderr",
     "output_type": "stream",
     "text": [
      "Assigning Features...: 100%|█████████████| 1665/1665 [00:00<00:00, 24450.38it/s]\n"
     ]
    },
    {
     "name": "stdout",
     "output_type": "stream",
     "text": [
      "\tCreating Pandas Objects...\n"
     ]
    },
    {
     "name": "stderr",
     "output_type": "stream",
     "text": [
      "Processing Input Data: 100%|█████████████| 1665/1665 [00:00<00:00, 53723.07it/s]\n"
     ]
    },
    {
     "name": "stdout",
     "output_type": "stream",
     "text": [
      "\tFeaturizing Compositions...\n"
     ]
    },
    {
     "name": "stderr",
     "output_type": "stream",
     "text": [
      "Assigning Features...: 100%|█████████████| 1665/1665 [00:00<00:00, 24918.08it/s]\n"
     ]
    },
    {
     "name": "stdout",
     "output_type": "stream",
     "text": [
      "\tCreating Pandas Objects...\n"
     ]
    },
    {
     "name": "stderr",
     "output_type": "stream",
     "text": [
      "Processing Input Data: 100%|█████████████| 1665/1665 [00:00<00:00, 54393.84it/s]\n"
     ]
    },
    {
     "name": "stdout",
     "output_type": "stream",
     "text": [
      "\tFeaturizing Compositions...\n"
     ]
    },
    {
     "name": "stderr",
     "output_type": "stream",
     "text": [
      "Assigning Features...: 100%|█████████████| 1665/1665 [00:00<00:00, 23628.48it/s]\n"
     ]
    },
    {
     "name": "stdout",
     "output_type": "stream",
     "text": [
      "\tCreating Pandas Objects...\n"
     ]
    }
   ],
   "source": [
    "X_jarvis, y_jarvis, *_ = composition.generate_features(clean_df, elem_prop='jarvis', drop_duplicates=False, extend_features=True, sum_feat=True)\n",
    "X_magpie, y_magpie, *_ = composition.generate_features(clean_df, elem_prop='magpie', drop_duplicates=False, extend_features=True, sum_feat=True)\n",
    "X_mat2vec, y_mat2vec, *_ = composition.generate_features(clean_df, elem_prop='mat2vec', drop_duplicates=False, extend_features=True, sum_feat=True)\n",
    "X_oliynyk, y_oliynyk, *_ = composition.generate_features(clean_df, elem_prop='oliynyk', drop_duplicates=False, extend_features=True, sum_feat=True)\n",
    "X_onehot, y_onehot, *_ = composition.generate_features(clean_df, elem_prop='onehot', drop_duplicates=False, extend_features=True, sum_feat=True)\n",
    "X_random_200, y_random_200, *_ = composition.generate_features(clean_df, elem_prop='random_200', drop_duplicates=False, extend_features=True, sum_feat=True)"
   ]
  },
  {
   "cell_type": "code",
   "execution_count": 19,
   "id": "ade6d3e8",
   "metadata": {},
   "outputs": [
    {
     "name": "stdout",
     "output_type": "stream",
     "text": [
      "X_jarvis 3066\n",
      "X_magpie 154\n",
      "X_mat2vec 1400\n",
      "X_oliynyk 308\n",
      "X_onehot 833\n",
      "X_random_200 1400\n"
     ]
    }
   ],
   "source": [
    "print(\"X_jarvis\",len(X_jarvis.columns))\n",
    "print(\"X_magpie\",len(X_magpie.columns))\n",
    "print(\"X_mat2vec\",len(X_mat2vec.columns))\n",
    "print(\"X_oliynyk\" , len(X_oliynyk.columns))\n",
    "print(\"X_onehot\" , len(X_onehot.columns))\n",
    "print(\"X_random_200\" , len(X_random_200.columns))"
   ]
  },
  {
   "cell_type": "code",
   "execution_count": 20,
   "id": "472abec6",
   "metadata": {},
   "outputs": [],
   "source": [
    "out_path_jarvis = os.path.join(PATH, 'data/descriptors/jarvis.bin')\n",
    "out_path_magpie = os.path.join(PATH, 'data/descriptors/magpie.bin')\n",
    "out_path_mat2vec = os.path.join(PATH, 'data/descriptors/mat2vec.bin')\n",
    "out_path_oliynyk = os.path.join(PATH, 'data/descriptors/oliynyk.bin')\n",
    "out_path_onehot = os.path.join(PATH, 'data/descriptors/onehot.bin')\n",
    "out_path_random_200 = os.path.join(PATH, 'data/descriptors/random_200.bin')\n",
    "\n",
    "out_path = [out_path_jarvis, out_path_magpie, out_path_mat2vec, out_path_oliynyk, out_path_onehot, out_path_random_200]\n",
    "x_value_raw = [(X_jarvis, y_jarvis), (X_magpie, y_magpie), (X_mat2vec, y_mat2vec), (X_oliynyk, y_oliynyk), (X_onehot, y_onehot), (X_random_200, y_random_200)]\n",
    "\n",
    "for path, x_value in zip(out_path, x_value_raw):\n",
    "    with open(path, 'wb') as f:\n",
    "        pickle.dump(x_value, f)"
   ]
  }
 ],
 "metadata": {
  "kernelspec": {
   "display_name": "Matminer",
   "language": "python",
   "name": "matminer"
  },
  "language_info": {
   "codemirror_mode": {
    "name": "ipython",
    "version": 3
   },
   "file_extension": ".py",
   "mimetype": "text/x-python",
   "name": "python",
   "nbconvert_exporter": "python",
   "pygments_lexer": "ipython3",
   "version": "3.9.7"
  }
 },
 "nbformat": 4,
 "nbformat_minor": 5
}
